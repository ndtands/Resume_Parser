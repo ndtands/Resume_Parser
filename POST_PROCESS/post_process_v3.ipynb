{
 "cells": [
  {
   "cell_type": "code",
   "execution_count": 1,
   "metadata": {},
   "outputs": [],
   "source": [
    "import pickle\n",
    "from utils import *\n",
    "file = open('file_cv30_2.pkl', 'rb')\n",
    "data = pickle.load(file)"
   ]
  },
  {
   "cell_type": "code",
   "execution_count": 2,
   "metadata": {},
   "outputs": [],
   "source": [
    "ADDRESS = []\n",
    "PHONE = []\n",
    "URL = []\n",
    "EMAIL = []\n",
    "LANGUAGE = []\n",
    "CAREER = []\n",
    "NAME = []\n",
    "SUMARIZE = []\n",
    "EX_DETAIL = []\n",
    "EDU_DETAIL = []\n",
    "CER_DETAIL = []\n",
    "PRO_DETAIL = []\n",
    "SKILLS = []\n",
    "AWARD = []\n",
    "for obj in data:\n",
    "    info = [obj[0],obj[1]]\n",
    "    if obj[2] == 'URL':\n",
    "        URL.append(info)\n",
    "    elif obj[2] == 'ADDRESS':\n",
    "        ADDRESS.append(info)\n",
    "    elif obj[2] == 'PHONE':\n",
    "        PHONE.append(info)\n",
    "    elif obj[2] == 'URL':\n",
    "        URL.append(info)\n",
    "    elif obj[2] == 'LANGUAGE':\n",
    "        LANGUAGE.append(info)\n",
    "    elif obj[2] == 'CAREER':\n",
    "        CAREER.append(info)\n",
    "    elif obj[2] == 'NAME':\n",
    "        NAME.append(info)\n",
    "    elif obj[2] == 'SUMARIZE':\n",
    "        SUMARIZE.append(info)\n",
    "    elif obj[2] == 'EMAIL':\n",
    "        EMAIL.append(info)\n",
    "    elif obj[2] in EX:\n",
    "        EX_DETAIL.append(obj)\n",
    "    elif obj[2] in EDU:\n",
    "        EDU_DETAIL.append(obj)\n",
    "    elif obj[2] in CER:\n",
    "        CER_DETAIL.append(obj)\n",
    "    elif obj[2] in PROJECT:\n",
    "        PRO_DETAIL.append(obj)\n",
    "    elif obj[2] == 'SKILL':\n",
    "        SKILLS.append(info)\n",
    "    elif obj[2] == 'AWARD_NAME':\n",
    "        AWARD.append(info)"
   ]
  },
  {
   "cell_type": "code",
   "execution_count": 3,
   "metadata": {},
   "outputs": [],
   "source": [
    "json_out = {}"
   ]
  },
  {
   "cell_type": "code",
   "execution_count": 4,
   "metadata": {},
   "outputs": [],
   "source": [
    "json_out['NAME'] = get_text(NAME).upper()\n",
    "json_out['CONTACT'] = {\n",
    "    'PHONE': get_text(PHONE),\n",
    "    'EMAIL': get_email(EMAIL,URL),\n",
    "    'URL': get_list(URL),\n",
    "    'ADDRESS': get_text(ADDRESS).upper(),\n",
    "}\n",
    "json_out['CAREER'] = get_text(CAREER).upper()\n",
    "json_out['SUMARIZE'] = get_text(SUMARIZE)\n",
    "json_out['SKILLS'] = get_list_advance(SKILLS)\n",
    "json_out['EXPERIMENT'] = get_detail(EX_DETAIL)\n",
    "json_out['EDUCATION'] = get_detail(EDU_DETAIL)\n",
    "json_out['CERTIFICATION'] = get_detail(CER_DETAIL)\n",
    "json_out['PROJECT'] = get_detail(PRO_DETAIL)\n",
    "json_out['AWARD'] = []\n",
    "json_out['LANGUAGE'] = get_list_advance(LANGUAGE)"
   ]
  },
  {
   "cell_type": "code",
   "execution_count": 5,
   "metadata": {},
   "outputs": [
    {
     "data": {
      "text/plain": [
       "{'NAME': '',\n",
       " 'CONTACT': {'PHONE': '', 'EMAIL': '', 'URL': [], 'ADDRESS': ''},\n",
       " 'CAREER': '',\n",
       " 'SUMARIZE': '',\n",
       " 'SKILLS': [],\n",
       " 'EXPERIMENT': [{'EX_POSITISION': '© rr)', 'EX_START_DATE': '(06/2017'},\n",
       "  {'EX_POSITISION': 're) volunteer coordinator',\n",
       "   'EX_COMPANY': 'dayton animal zoo @',\n",
       "   'EX_START_DATE': '06/2017',\n",
       "   'EX_END_DATE': 'present',\n",
       "   'EX_DESCRIPTION': '® promoted animal welfare through various initiatives, including education, advocacy, and promotion of respect and caring.'},\n",
       "  {'EX_POSITISION': 'team lead volunteer',\n",
       "   'EX_COMPANY': 'bloodletting campaign for the benefit of ms. samantha melon @',\n",
       "   'EX_START_DATE': '06/2018',\n",
       "   'EX_END_DATE': '08/2016',\n",
       "   'EX_DESCRIPTION': '® acted as team leader for the bloodletting activities to assist in the medical and financial needs of a cancer patient undergoing chemotherapy cycles.'}],\n",
       " 'EDUCATION': [{'EDU_DEGREE': 'bachelor of science in business administration',\n",
       "   'EDU_UNIVERSITY': 'wright state university',\n",
       "   'EDU_START_DATE': '2008',\n",
       "   'EDU_END_DATE': '2011'}],\n",
       " 'CERTIFICATION': [{'CER_DATE': '06/2018) @',\n",
       "   'CER_NAME': 'certified professional events planner'},\n",
       "  {'CER_DATE': '(09/2015) @', 'CER_NAME': 'certified events coordinator'},\n",
       "  {'CER_DATE': '(08/2015) %', 'CER_NAME': 'events planning'},\n",
       "  {'CER_DATE': '(06/2013) @', 'CER_NAME': 'facility coordination'},\n",
       "  {'CER_DATE': '(08/2011)'}],\n",
       " 'PROJECT': [{'PROJECT_NAME': 'mentorship program coordinator @ woodside orphanage',\n",
       "   'PROJECT_DESCRIPTION': \"® the program's objective was to establish a trusting relationship with accountability and responsibility from the mentor and mentee. influence and positively reinforced the needs of the mentee using a continuum of care, creating a growing, healthy relationship.\"}],\n",
       " 'AWARD': [],\n",
       " 'LANGUAGE': []}"
      ]
     },
     "execution_count": 5,
     "metadata": {},
     "output_type": "execute_result"
    }
   ],
   "source": [
    "json_out"
   ]
  }
 ],
 "metadata": {
  "kernelspec": {
   "display_name": "Python 3.8.10 64-bit",
   "language": "python",
   "name": "python3"
  },
  "language_info": {
   "codemirror_mode": {
    "name": "ipython",
    "version": 3
   },
   "file_extension": ".py",
   "mimetype": "text/x-python",
   "name": "python",
   "nbconvert_exporter": "python",
   "pygments_lexer": "ipython3",
   "version": "3.8.10"
  },
  "orig_nbformat": 4,
  "vscode": {
   "interpreter": {
    "hash": "916dbcbb3f70747c44a77c7bcd40155683ae19c65e1c03b4aa3499c5328201f1"
   }
  }
 },
 "nbformat": 4,
 "nbformat_minor": 2
}
